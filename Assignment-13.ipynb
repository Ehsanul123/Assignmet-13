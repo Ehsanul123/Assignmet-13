{
 "cells": [
  {
   "cell_type": "code",
   "execution_count": null,
   "id": "e30669c1",
   "metadata": {},
   "outputs": [],
   "source": [
    "#1:\n",
    "(a)in excel sheet the data is in row and column format that is easy to read, and in csv file format \n",
    "     the data is in comma separated that is difficluty to read.\n",
    "(b)Excel also provides the user option for external linking of data from other sources, and also, the \n",
    "   user can do custom add-ins, but in csv it it not avilable.\n",
    "(c)Excel can perform VBA Coding, functions, formulas and create summaries easily when compared to CSV"
   ]
  },
  {
   "cell_type": "code",
   "execution_count": 10,
   "id": "8b13bb46",
   "metadata": {},
   "outputs": [
    {
     "name": "stdout",
     "output_type": "stream",
     "text": [
      "['age;\"job\";\"marital\";\"education\";\"default\";\"balance\";\"housing\";\"loan\";\"contact\";\"day\";\"month\";\"duration\";\"campaign\";\"pdays\";\"previous\";\"poutcome\";\"y\"']\n",
      "['58;\"management\";\"married\";\"tertiary\";\"no\";2143;\"yes\";\"no\";\"unknown\";5;\"may\";261;1;-1;0;\"unknown\";\"no\"']\n"
     ]
    }
   ],
   "source": [
    "#2:\n",
    "call open() and pass it 'w' to open a file in write mode.\n",
    "call open() and pass it 'r' to open a file in read mode.\n",
    "\n",
    "import csv\n",
    "with open('ban.csv', 'r') as file:\n",
    "    reader = csv.reader(file, delimiter = '\\t')\n",
    "    for row in reader:\n",
    "        print(row)"
   ]
  },
  {
   "cell_type": "code",
   "execution_count": 12,
   "id": "f9646e92",
   "metadata": {},
   "outputs": [],
   "source": [
    "import csv\n",
    "with open('E:\\demo.csv', 'w', newline='') as file:\n",
    "    writer = csv.writer(file)\n",
    "    writer.writerow([\"SN\", \"Movie\", \"Protagonist\"])\n",
    "    writer.writerow([1, \"Lord of the Rings\", \"Frodo Baggins\"])"
   ]
  },
  {
   "cell_type": "code",
   "execution_count": null,
   "id": "3d2d0d26",
   "metadata": {},
   "outputs": [],
   "source": [
    "#3:\n",
    "In order to open a file for reading or writing purposes, we must use the built-in open() function. \n",
    "The open() function uses two arguments. First is the name of the file and second is for what purpose we want to open it"
   ]
  },
  {
   "cell_type": "code",
   "execution_count": null,
   "id": "4ed53fa4",
   "metadata": {},
   "outputs": [],
   "source": [
    "#4:\n",
    "The most common method to write data from a list to CSV file is the writerow() method of writer and DictWriter class."
   ]
  },
  {
   "cell_type": "code",
   "execution_count": null,
   "id": "3896ca0d",
   "metadata": {},
   "outputs": [],
   "source": [
    "#5:\n",
    "The delimiter is the character that appears between cells on a row. By default, the delimiter for a CSV file is a comma.\n",
    "The line terminator is the character that comes at the end of a row. By default, the line terminator is a newline"
   ]
  },
  {
   "cell_type": "code",
   "execution_count": 16,
   "id": "85f27605",
   "metadata": {},
   "outputs": [
    {
     "name": "stdout",
     "output_type": "stream",
     "text": [
      "{\"age\": 31, \"height\": 6}\n",
      "{'age': 31, 'height': 6}\n"
     ]
    }
   ],
   "source": [
    "#6:\n",
    "loads() method return Python data structure of JSON string or data.\n",
    "\n",
    "import json\n",
    "var = {'age':31, 'height':6}\n",
    "x = json.dumps(var)\n",
    "y = json.loads(x)\n",
    "print(x)\n",
    "print(y)"
   ]
  },
  {
   "cell_type": "code",
   "execution_count": null,
   "id": "1e3b6e64",
   "metadata": {},
   "outputs": [],
   "source": [
    "#7:\n",
    "Convert from Python to JSON  :-\n",
    "you can convert Python to JSON string by using the json.dumps() method."
   ]
  }
 ],
 "metadata": {
  "kernelspec": {
   "display_name": "Python 3 (ipykernel)",
   "language": "python",
   "name": "python3"
  },
  "language_info": {
   "codemirror_mode": {
    "name": "ipython",
    "version": 3
   },
   "file_extension": ".py",
   "mimetype": "text/x-python",
   "name": "python",
   "nbconvert_exporter": "python",
   "pygments_lexer": "ipython3",
   "version": "3.9.7"
  }
 },
 "nbformat": 4,
 "nbformat_minor": 5
}
